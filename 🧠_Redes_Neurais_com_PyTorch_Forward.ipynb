{
  "nbformat": 4,
  "nbformat_minor": 0,
  "metadata": {
    "colab": {
      "provenance": []
    },
    "kernelspec": {
      "name": "python3",
      "display_name": "Python 3"
    },
    "language_info": {
      "name": "python"
    }
  },
  "cells": [
    {
      "cell_type": "markdown",
      "source": [
        "# Contexto ✒️\n",
        "\n",
        "Já familiarizado com a arquitetura da rede e a sua implementação, bem como a estrutura de dados pertinente para o procedimento do aprendizado da máquina no contexto das redes neurais, esse notebook irá debruçar sobre a etapa de forward da rede neural até a função objetivo."
      ],
      "metadata": {
        "id": "B24A7Ab5h1yT"
      }
    },
    {
      "cell_type": "markdown",
      "source": [
        "# Bibliotecas 📚"
      ],
      "metadata": {
        "id": "vEOlZRw1ifmx"
      }
    },
    {
      "cell_type": "code",
      "execution_count": 203,
      "metadata": {
        "id": "JnupAkHBhp0i"
      },
      "outputs": [],
      "source": [
        "import torch\n",
        "import pandas as pd\n",
        "\n",
        "from torch import nn\n",
        "from torch import optim\n",
        "from torchsummary import summary\n",
        "\n",
        "from sklearn import datasets\n",
        "from sklearn.preprocessing import StandardScaler"
      ]
    },
    {
      "cell_type": "markdown",
      "source": [
        "### Função de perda\n",
        "\n",
        "A função de perda pode ser pensada como uma medida numérica de qualidade do modelo, a qual se relaciona numa busca por maximização ou minimização de algo.\n",
        "\n",
        "- Exemplo de maximização :\n",
        "\n",
        "Modelando o desempenho de um carro de fórmula 1 numa função matemática, a função de perda se debruçaria sobre as features que podem prover a maximização do veículo, para que provesse a ele um incremento de performance.\n",
        "\n",
        "- Exemplo de minimazação :    \n",
        "\n",
        "Compreendendo a elaboração de preços de casas com base nas features que se colocam como características latentes a esse, eu poderia criar um modelo que prevesse as casas com base em suas características, local em que está situada e etc. A prova de qualidade desse modelo seria a sua previsão estar próxima ou de modo colinear ao valor da casa real. Ou seja, a sua função de perda se debruçaria em minimizar a distância do que é predito em relação ao o que é encontrado. Podemos encontrar a função de perda, ainda, com outros nomes, como função de custo, loss, função objetivo e etc.\n",
        "\n",
        " A escolha da função de perda a ser utilizada está intimamente relacionada ao problema no qual ela se circunscreve. Tomando como exemplo problemas de regressão e classificação, as funções de perda comumente utilizadas para cada qual são :\n",
        "\n",
        " >\n",
        "\n",
        " ### Regressão\n",
        "\n",
        " Erro absoluto médio (l1) - $[y -y'i]$\n",
        "\n",
        " Erro quadrático médio (MSE / l2) - $[y -y'i]²$\n",
        "\n",
        " >\n",
        "\n",
        " ### Classificação\n",
        "\n",
        " Normalmente utiliza-se a entropia cruzada, que mensura a diferença do valor inferido em relação ao valor encontrado (ou real).  "
      ],
      "metadata": {
        "id": "ohydY2z4xxdn"
      }
    },
    {
      "cell_type": "markdown",
      "source": [
        "## Para problemas de classificação 🥇🥈🥉\n",
        "\n",
        "Para auxiliar no processo da implementação, o dataset escolhido se refere a vinhos, os quais relaciona as suas características com a classe que pertencem."
      ],
      "metadata": {
        "id": "w_ViqxzHI6Cy"
      }
    },
    {
      "cell_type": "code",
      "source": [
        "# Carregando o dataset:\n",
        "\n",
        "wine = datasets.load_wine()\n",
        "\n",
        "# Features\n",
        "data_wine = wine.data\n",
        "\n",
        "# Target\n",
        "target_wine = wine.target\n",
        "\n",
        "# Formato das features e da target.\n",
        "print(data_wine.shape)\n",
        "print(target_wine.shape)"
      ],
      "metadata": {
        "colab": {
          "base_uri": "https://localhost:8080/"
        },
        "id": "81uyCXbfzJym",
        "outputId": "5b322bfd-f7ee-4532-ee87-96a745a46197"
      },
      "execution_count": 218,
      "outputs": [
        {
          "output_type": "stream",
          "name": "stdout",
          "text": [
            "(178, 13)\n",
            "(178,)\n"
          ]
        }
      ]
    },
    {
      "cell_type": "code",
      "source": [
        "# Nome das features referentes ao vinho.\n",
        "\n",
        "print(wine.feature_names)"
      ],
      "metadata": {
        "colab": {
          "base_uri": "https://localhost:8080/"
        },
        "id": "5O-RfyQVAGvf",
        "outputId": "d9913c44-1bbd-4812-844a-28fb40a9e76c"
      },
      "execution_count": 205,
      "outputs": [
        {
          "output_type": "stream",
          "name": "stdout",
          "text": [
            "['alcohol', 'malic_acid', 'ash', 'alcalinity_of_ash', 'magnesium', 'total_phenols', 'flavanoids', 'nonflavanoid_phenols', 'proanthocyanins', 'color_intensity', 'hue', 'od280/od315_of_diluted_wines', 'proline']\n"
          ]
        }
      ]
    },
    {
      "cell_type": "markdown",
      "source": [
        "## Criando a rede neural para classificação ♦️\n",
        "\n"
      ],
      "metadata": {
        "id": "jLlLVvCsAkCI"
      }
    },
    {
      "cell_type": "code",
      "source": [
        "input_size = data_wine.shape[1]\n",
        "hidden_size = 32\n",
        "output_size = len(wine.target_names)"
      ],
      "metadata": {
        "id": "LsoN_9ZLDBFz"
      },
      "execution_count": 219,
      "outputs": []
    },
    {
      "cell_type": "code",
      "source": [
        "class WineClassifier(nn.Module):\n",
        "\n",
        "  def __init__(self, input_size, hidden_size, output_size):\n",
        "\n",
        "    # Instanciando nn.Module\n",
        "    super(WineClassifier, self).__init__()\n",
        "\n",
        "    self.hidden = nn.Linear(input_size, hidden_size)\n",
        "    self.relu = nn.ReLU()\n",
        "    self.out = nn.Linear(hidden_size, output_size)\n",
        "    self.softmax = nn.Softmax()\n",
        "\n",
        "\n",
        "\n",
        "  def forward(self, X):\n",
        "\n",
        "    feature = self.relu(self.hidden(X))\n",
        "    output = self.softmax(self.out(feature))\n",
        "\n",
        "    return output\n",
        "\n"
      ],
      "metadata": {
        "id": "PN7BTxnb_tjU"
      },
      "execution_count": 217,
      "outputs": []
    },
    {
      "cell_type": "code",
      "source": [
        "net_wine = WineClassifier(input_size, hidden_size, output_size) # Quando terminar tudo acrescentar : .to(device) para fazer o cast na GPU."
      ],
      "metadata": {
        "id": "1Cm-FCcKC8Dk"
      },
      "execution_count": 220,
      "outputs": []
    },
    {
      "cell_type": "code",
      "source": [
        "# Visualizando a rede criada.\n",
        "\n",
        "net_wine"
      ],
      "metadata": {
        "colab": {
          "base_uri": "https://localhost:8080/"
        },
        "id": "9VwP5KgaDwZR",
        "outputId": "f279850d-f18a-48e7-fdaa-6f697175cff5"
      },
      "execution_count": 221,
      "outputs": [
        {
          "output_type": "execute_result",
          "data": {
            "text/plain": [
              "WineClassifier(\n",
              "  (hidden): Linear(in_features=13, out_features=32, bias=True)\n",
              "  (relu): ReLU()\n",
              "  (out): Linear(in_features=32, out_features=3, bias=True)\n",
              "  (softmax): Softmax(dim=None)\n",
              ")"
            ]
          },
          "metadata": {},
          "execution_count": 221
        }
      ]
    },
    {
      "cell_type": "code",
      "source": [
        "'''\n",
        "Definindo o critério da função de objetivo. Como se trata\n",
        "de um problema de classificação, estou utilizando a entropria cruzada.\n",
        "'''\n",
        "\n",
        "criterion_wine = nn.CrossEntropyLoss() # fazer depois o cast na GPU.\n"
      ],
      "metadata": {
        "id": "oenfFKyzD9qV"
      },
      "execution_count": 222,
      "outputs": []
    },
    {
      "cell_type": "markdown",
      "source": [
        "Uma vez criado a rede neural e a definição da métrica para a função objetivo, precisa-se transformar os dados para que fiquem no tipo tensor, caso não estejam. Tendo em vista que os dados presentes estão na forma de array, precisa-se transformá-los em tensor."
      ],
      "metadata": {
        "id": "Suag3dApEc5_"
      }
    },
    {
      "cell_type": "code",
      "source": [
        "# Transformando os dados em tensores.\n",
        "\n",
        "X_tensor = torch.from_numpy(data_wine).float()\n",
        "y_tensor = torch.from_numpy(target_wine)\n",
        "\n",
        "'''\n",
        "Fazer o cast na GPU depois para os tensores criados.\n",
        "\n",
        "X_tensor = X_tensor.to(device)\n",
        "y_tensor = y_tensor.to(device)\n",
        "\n",
        "'''\n",
        "\n",
        "print(X_tensor.dtype, y_tensor.dtype)"
      ],
      "metadata": {
        "colab": {
          "base_uri": "https://localhost:8080/"
        },
        "id": "ubhVRx9TEYrO",
        "outputId": "a727c5f2-3adb-4409-df75-5b9db141888b"
      },
      "execution_count": 223,
      "outputs": [
        {
          "output_type": "stream",
          "name": "stdout",
          "text": [
            "torch.float32 torch.int64\n"
          ]
        }
      ]
    },
    {
      "cell_type": "code",
      "source": [
        "# Realizando o forward na rede.\n",
        "\n",
        "pred = net_wine(X_tensor)"
      ],
      "metadata": {
        "colab": {
          "base_uri": "https://localhost:8080/"
        },
        "id": "rTKuJhuxFVPk",
        "outputId": "8f2e8850-ed65-4561-8408-1578ffb901a7"
      },
      "execution_count": 224,
      "outputs": [
        {
          "output_type": "stream",
          "name": "stderr",
          "text": [
            "/usr/local/lib/python3.10/dist-packages/torch/nn/modules/module.py:1532: UserWarning: Implicit dimension choice for softmax has been deprecated. Change the call to include dim=X as an argument.\n",
            "  return self._call_impl(*args, **kwargs)\n"
          ]
        }
      ]
    },
    {
      "cell_type": "code",
      "source": [
        "print(f'Visualizando o formato da predição e do rótulo \\n')\n",
        "print(f'Predição : {pred.shape}')\n",
        "print(f'Rótulo : {y_tensor.shape}')"
      ],
      "metadata": {
        "colab": {
          "base_uri": "https://localhost:8080/"
        },
        "id": "4EQoq8BuGBsH",
        "outputId": "8a2e3260-5422-469e-bcdb-f272fdb4849e"
      },
      "execution_count": 225,
      "outputs": [
        {
          "output_type": "stream",
          "name": "stdout",
          "text": [
            "Visualizando o formato da predição e do rótulo \n",
            "\n",
            "Predição : torch.Size([178, 3])\n",
            "Rótulo : torch.Size([178])\n"
          ]
        }
      ]
    },
    {
      "cell_type": "markdown",
      "source": [
        "Por mais que o formato entre o forward e o rótulo seja diferente, apresentando portanto diferentes dimensões, não há problema, para cenários de classificação, essa dissonância, sendo até esperada, o que não exige nenhum grau de tratamento e etc."
      ],
      "metadata": {
        "id": "Va4wCEWYHB6I"
      }
    },
    {
      "cell_type": "code",
      "source": [
        "'''\n",
        "O valor encontrado pela loss, na forma em que está, retorna a média de perda\n",
        "entre o valor real e o inferido pela rede, com base na entropia cruzada,\n",
        "informando a qualidade da rede criada.\n",
        "'''\n",
        "\n",
        "loss = criterion_wine(pred, y_tensor)\n",
        "loss"
      ],
      "metadata": {
        "colab": {
          "base_uri": "https://localhost:8080/"
        },
        "id": "22FdqqGaG7Xx",
        "outputId": "9ff5da7a-144a-43bc-ed07-4b74c9ac850a"
      },
      "execution_count": 226,
      "outputs": [
        {
          "output_type": "execute_result",
          "data": {
            "text/plain": [
              "tensor(1.1644, grad_fn=<NllLossBackward0>)"
            ]
          },
          "metadata": {},
          "execution_count": 226
        }
      ]
    },
    {
      "cell_type": "code",
      "source": [
        "# Se eu quisésse encontrar para um valor ou range.\n",
        "\n",
        "# Para um valor\n",
        "\n",
        "loss = criterion_wine(pred[0], y_tensor[0])\n",
        "loss\n",
        "\n"
      ],
      "metadata": {
        "colab": {
          "base_uri": "https://localhost:8080/"
        },
        "id": "5IzWLHK3HZkv",
        "outputId": "0d4473f9-0bcc-4b3d-fefc-3db27353ca6d"
      },
      "execution_count": 227,
      "outputs": [
        {
          "output_type": "execute_result",
          "data": {
            "text/plain": [
              "tensor(1.5514, grad_fn=<NllLossBackward0>)"
            ]
          },
          "metadata": {},
          "execution_count": 227
        }
      ]
    },
    {
      "cell_type": "code",
      "source": [
        "# Para um alcance\n",
        "\n",
        "loss = criterion_wine(pred[0:10], y_tensor[0:10])\n",
        "loss"
      ],
      "metadata": {
        "colab": {
          "base_uri": "https://localhost:8080/"
        },
        "id": "ntV9C0ReIW34",
        "outputId": "594dcb41-727f-4d01-8aef-dc963937c898"
      },
      "execution_count": 228,
      "outputs": [
        {
          "output_type": "execute_result",
          "data": {
            "text/plain": [
              "tensor(1.5513, grad_fn=<NllLossBackward0>)"
            ]
          },
          "metadata": {},
          "execution_count": 228
        }
      ]
    },
    {
      "cell_type": "markdown",
      "source": [
        "## Para problemas de regressão ♣️"
      ],
      "metadata": {
        "id": "g9XrcJqCJBxD"
      }
    },
    {
      "cell_type": "code",
      "source": [
        "# Carregando o dataset utilizado\n",
        "\n",
        "diabetes = datasets.load_diabetes()\n",
        "\n",
        "# Feature\n",
        "data = diabetes.data\n",
        "\n",
        "# Target\n",
        "target = diabetes.target"
      ],
      "metadata": {
        "id": "ckXBFTkHIj8f"
      },
      "execution_count": 229,
      "outputs": []
    },
    {
      "cell_type": "code",
      "source": [
        "# Visualizando as features referentes à target.\n",
        "\n",
        "diabetes.feature_names"
      ],
      "metadata": {
        "colab": {
          "base_uri": "https://localhost:8080/"
        },
        "id": "S8BUH0vJJf0h",
        "outputId": "1613543e-b236-4cdc-b764-02424f02c0f7"
      },
      "execution_count": 230,
      "outputs": [
        {
          "output_type": "execute_result",
          "data": {
            "text/plain": [
              "['age', 'sex', 'bmi', 'bp', 's1', 's2', 's3', 's4', 's5', 's6']"
            ]
          },
          "metadata": {},
          "execution_count": 230
        }
      ]
    },
    {
      "cell_type": "code",
      "source": [
        "print(data.shape)\n",
        "print(target.shape)"
      ],
      "metadata": {
        "colab": {
          "base_uri": "https://localhost:8080/"
        },
        "id": "TwPOs20qJiKH",
        "outputId": "da6f4893-5ed1-4d72-bde1-30c0d29d9e58"
      },
      "execution_count": 231,
      "outputs": [
        {
          "output_type": "stream",
          "name": "stdout",
          "text": [
            "(442, 10)\n",
            "(442,)\n"
          ]
        }
      ]
    },
    {
      "cell_type": "code",
      "source": [
        "# Parâmetros a serem passados atrelados ao problema de regressão.\n",
        "\n",
        "input_size = data.shape[1]\n",
        "hidden_size = 32\n",
        "output_size = 1"
      ],
      "metadata": {
        "id": "xpwTUvOEPfnt"
      },
      "execution_count": 232,
      "outputs": []
    },
    {
      "cell_type": "code",
      "source": [
        "# Implementando a rede para regressão :\n",
        "\n",
        "class DiabetesRegressor(nn.Module):\n",
        "\n",
        "  def __init__(self, input_size, hidden_size, output_size):\n",
        "\n",
        "    # Instanciando nn.Module\n",
        "    super(DiabetesRegressor, self).__init__()\n",
        "\n",
        "    self.hidden = nn.Linear(input_size, hidden_size)\n",
        "    self.relu = nn.ReLU()\n",
        "    self.out = nn.Linear(hidden_size, output_size)\n",
        "    self.sigmoid = nn.Sigmoid()\n",
        "\n",
        "  def forward(self, X):\n",
        "\n",
        "    feature = self.relu(self.hidden(X))\n",
        "    output = self.sigmoid(self.out(feature))\n",
        "\n",
        "    return output\n",
        "\n"
      ],
      "metadata": {
        "id": "KppzugB-Ouc-"
      },
      "execution_count": 233,
      "outputs": []
    },
    {
      "cell_type": "markdown",
      "source": [
        "Ao analisar a arquitetura da rede, observa-se que não estou utilizando a função de ativação, na porção de saída, softmax, mas, sim, uma linear, pois se trata de um caso de regressão no qual deseja-se prever um valor com base nas features."
      ],
      "metadata": {
        "id": "zQsntdksXsLu"
      }
    },
    {
      "cell_type": "code",
      "source": [
        "net = DiabetesRegressor(input_size, hidden_size, output_size) # Não esquecer de depois fazer o cast na GPU."
      ],
      "metadata": {
        "id": "fmOmtj1UPqIS"
      },
      "execution_count": 234,
      "outputs": []
    },
    {
      "cell_type": "code",
      "source": [
        "# Visualizando a rede neural construída.\n",
        "\n",
        "print(net)"
      ],
      "metadata": {
        "colab": {
          "base_uri": "https://localhost:8080/"
        },
        "id": "OYUuhReLPyge",
        "outputId": "a7660292-61c4-4272-ac84-943580163ddc"
      },
      "execution_count": 235,
      "outputs": [
        {
          "output_type": "stream",
          "name": "stdout",
          "text": [
            "DiabetesRegressor(\n",
            "  (hidden): Linear(in_features=10, out_features=32, bias=True)\n",
            "  (relu): ReLU()\n",
            "  (out): Linear(in_features=32, out_features=1, bias=True)\n",
            "  (sigmoid): Sigmoid()\n",
            ")\n"
          ]
        }
      ]
    },
    {
      "cell_type": "code",
      "source": [
        "# Criando a função de perda.\n",
        "\n",
        "criterion = nn.MSELoss() # Passar posteriormente à GPU"
      ],
      "metadata": {
        "id": "friBjvwRP3sn"
      },
      "execution_count": 236,
      "outputs": []
    },
    {
      "cell_type": "code",
      "source": [
        "# Não esquecer de depois passar para a GPU\n",
        "\n",
        "X_tensor = torch.from_numpy(data).float()\n",
        "y_tensor = torch.from_numpy(target)"
      ],
      "metadata": {
        "id": "gGE8FCQqQK5V"
      },
      "execution_count": 237,
      "outputs": []
    },
    {
      "cell_type": "code",
      "source": [
        "print(X_tensor.shape, y_tensor.shape)"
      ],
      "metadata": {
        "colab": {
          "base_uri": "https://localhost:8080/"
        },
        "id": "J1HWJ98mQR4N",
        "outputId": "516879c1-d80f-44cf-e5aa-8c4274eaab15"
      },
      "execution_count": 238,
      "outputs": [
        {
          "output_type": "stream",
          "name": "stdout",
          "text": [
            "torch.Size([442, 10]) torch.Size([442])\n"
          ]
        }
      ]
    },
    {
      "cell_type": "code",
      "source": [
        "# Fazendo o forward na rede\n",
        "\n",
        "pred = net(X_tensor)"
      ],
      "metadata": {
        "id": "Lo7V5B2HQdKf"
      },
      "execution_count": 239,
      "outputs": []
    },
    {
      "cell_type": "code",
      "source": [
        "pred.shape"
      ],
      "metadata": {
        "colab": {
          "base_uri": "https://localhost:8080/"
        },
        "id": "NIC21Fs-Qgkm",
        "outputId": "6034d6dd-69a5-46d9-967c-9367285e0418"
      },
      "execution_count": 240,
      "outputs": [
        {
          "output_type": "execute_result",
          "data": {
            "text/plain": [
              "torch.Size([442, 1])"
            ]
          },
          "metadata": {},
          "execution_count": 240
        }
      ]
    },
    {
      "cell_type": "code",
      "source": [
        "'''\n",
        "Para calcular a loss, basta relacionar os valores do forward\n",
        "em relação aos esperados. Porém, diferente do cálculo anterior\n",
        "no qual podia-se passar o foward da rede com formato diferente\n",
        "ao encontrado nos valores esperados, para regressões o valor tem\n",
        "de ser os mesmos, ou seja, tanto o forward quanto o valor esperado\n",
        "devem estar na mesma dimensão. Para isso, basta :\n",
        "'''\n",
        "\n",
        "loss = criterion(pred.squeeze(), y_tensor)\n",
        "loss\n",
        "\n"
      ],
      "metadata": {
        "colab": {
          "base_uri": "https://localhost:8080/"
        },
        "id": "cGRZcUacQt8Z",
        "outputId": "f10d882e-5a46-4ef6-c6c8-845bfff1b81d"
      },
      "execution_count": 241,
      "outputs": [
        {
          "output_type": "execute_result",
          "data": {
            "text/plain": [
              "tensor(28917.9163, dtype=torch.float64, grad_fn=<MseLossBackward0>)"
            ]
          },
          "metadata": {},
          "execution_count": 241
        }
      ]
    },
    {
      "cell_type": "markdown",
      "source": [
        "Novamente, o valor encontrado pela loss se refere a média\n",
        "da diferença do valor real entre o esperado, com base na\n",
        "métrica utilizada.\n"
      ],
      "metadata": {
        "id": "bgsOk13-Y430"
      }
    },
    {
      "cell_type": "code",
      "source": [],
      "metadata": {
        "id": "LUplcq9Uv1L6"
      },
      "execution_count": 241,
      "outputs": []
    }
  ]
}